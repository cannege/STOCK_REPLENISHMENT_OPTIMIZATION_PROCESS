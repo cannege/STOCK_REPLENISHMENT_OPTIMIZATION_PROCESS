{
 "cells": [
  {
   "cell_type": "code",
   "execution_count": 1,
   "metadata": {},
   "outputs": [
    {
     "name": "stdout",
     "output_type": "stream",
     "text": [
      "Requirement already satisfied: gurobipy in /Applications/anaconda3/lib/python3.8/site-packages (9.5.1)\n",
      "Note: you may need to restart the kernel to use updated packages.\n"
     ]
    }
   ],
   "source": [
    "pip install gurobipy"
   ]
  },
  {
   "cell_type": "code",
   "execution_count": 652,
   "metadata": {},
   "outputs": [],
   "source": [
    "#Library Import\n",
    "import pandas as pd\n",
    "import numpy as np\n",
    "import matplotlib.pyplot as plt\n",
    "import time\n",
    "import statistics\n",
    "import math\n",
    "\n",
    "import gurobipy as gp\n",
    "from gurobipy import GRB\n",
    "#Execution Time\n",
    "\n",
    "\n",
    "start_time = time.time()"
   ]
  },
  {
   "cell_type": "markdown",
   "metadata": {},
   "source": [
    "---"
   ]
  },
  {
   "cell_type": "code",
   "execution_count": 976,
   "metadata": {},
   "outputs": [],
   "source": [
    "gurobi_inputs = pd.read_excel('RPL_Output48/48FC_1.xlsx')\n",
    "\n",
    "#UNIQUE VALUES\n",
    "\n",
    "unique_stores = gurobi_inputs['Stores'].unique()\n",
    "unique_SKU = gurobi_inputs['SKU'].unique()\n",
    "unique_Category = gurobi_inputs['Category'].unique()\n"
   ]
  },
  {
   "cell_type": "code",
   "execution_count": 977,
   "metadata": {},
   "outputs": [],
   "source": [
    "new = gurobi_inputs['SKU'].str.split(\"_\", n = 2, expand = True)\n",
    "new = new[0]+'_' +new[1]"
   ]
  },
  {
   "cell_type": "code",
   "execution_count": 978,
   "metadata": {},
   "outputs": [],
   "source": [
    "gurobi_inputs['AssortmentCode']= new"
   ]
  },
  {
   "cell_type": "code",
   "execution_count": 979,
   "metadata": {},
   "outputs": [],
   "source": [
    "unique_Assortment = gurobi_inputs['AssortmentCode'].unique()"
   ]
  },
  {
   "cell_type": "code",
   "execution_count": 980,
   "metadata": {},
   "outputs": [],
   "source": [
    "#index Reset\n",
    "gurobi_inputs.reset_index(inplace = True)\n",
    "del gurobi_inputs['index']\n"
   ]
  },
  {
   "cell_type": "code",
   "execution_count": 981,
   "metadata": {},
   "outputs": [],
   "source": [
    "#Define H as the set of stores\n",
    "\n",
    "H = []\n",
    "\n",
    "for i in range(0,len(unique_stores)):\n",
    "    H.append(unique_stores[i])\n",
    "    \n",
    "    \n",
    "#Define J as the set of assortments\n",
    "\n",
    "J = []\n",
    "for i in range(0,len(unique_Assortment)):\n",
    "    J.append(unique_Assortment[i])\n",
    "\n",
    "    \n",
    "#Define K as the set of products\n",
    "\n",
    "K = []\n",
    "\n",
    "for i in range(0,len(unique_SKU)):\n",
    "    K.append(unique_SKU[i])\n",
    "    \n",
    "#Define L as the set of categories\n",
    "\n",
    "L = []\n",
    "\n",
    "for i in range(0,len(unique_Category)):\n",
    "    L.append(unique_Category[i])\n",
    "\n"
   ]
  },
  {
   "cell_type": "code",
   "execution_count": 982,
   "metadata": {},
   "outputs": [],
   "source": [
    "I_initial = {}\n",
    "DU = {}\n",
    "DL = {}\n",
    "invlevel = gurobi_inputs.groupby(['SKU']).sum().reset_index()\n",
    "IW = {}\n",
    "W2_max = {}\n",
    "W2_min = {}\n",
    "F = {}\n",
    "a = {}\n",
    "P = {}\n",
    "CC = {}\n",
    "C = {}\n",
    "e = {}\n",
    "b = {}\n",
    "g = {}\n",
    "n = {} # Number of product k that can be in assortment j"
   ]
  },
  {
   "cell_type": "code",
   "execution_count": 983,
   "metadata": {
    "tags": []
   },
   "outputs": [],
   "source": [
    "#Initial Stok Dict\n",
    "for i in range(0,len(K)):\n",
    "    for j in range(0,len(H)):\n",
    "        I_initial[H[j],K[i]] = 0\n",
    "\n",
    "for i in range(0,len(gurobi_inputs)):\n",
    "    I_initial[(gurobi_inputs['Stores'][i], gurobi_inputs['SKU'][i])] = gurobi_inputs['Initial_Stock'][i]\n",
    "    i += 1"
   ]
  },
  {
   "cell_type": "code",
   "execution_count": 984,
   "metadata": {},
   "outputs": [],
   "source": [
    "CapacityStore = pd.read_excel('StoreCapacityDeneme.xlsx')\n",
    "CapacityCategory = pd.read_excel('CategoryCapacityDenemeV2.xlsx')"
   ]
  },
  {
   "cell_type": "code",
   "execution_count": 985,
   "metadata": {
    "tags": []
   },
   "outputs": [],
   "source": [
    "#C Dict\n",
    "for i in range(0,len(CapacityStore)):\n",
    "    C[(CapacityStore['Stores'][i])] = CapacityStore['Store Capacity'][i]\n",
    "    i += 1"
   ]
  },
  {
   "cell_type": "code",
   "execution_count": 986,
   "metadata": {},
   "outputs": [],
   "source": [
    "#CC Dict\n",
    "for i in range(0,len(CapacityCategory)):\n",
    "    CC[(CapacityCategory['Stores'][i],CapacityCategory['Category'][i])] = CapacityCategory['Capacity'][i]\n",
    "    i += 1\n",
    "       "
   ]
  },
  {
   "cell_type": "code",
   "execution_count": 987,
   "metadata": {},
   "outputs": [],
   "source": [
    "#b Dict\n",
    "for i in range(0,len(K)):\n",
    "    for j in range(0,len(H)):\n",
    "        b[H[j],K[i]] = 0\n",
    "\n",
    "for i in range(0,len(gurobi_inputs)):\n",
    "    b[(gurobi_inputs['Stores'][i], gurobi_inputs['SKU'][i])] = 1\n",
    "    i += 1"
   ]
  },
  {
   "cell_type": "code",
   "execution_count": 988,
   "metadata": {},
   "outputs": [],
   "source": [
    "#e Dict\n",
    "for i in range(0,len(L)):\n",
    "    for j in range(0,len(K)):\n",
    "        e[L[i],K[j]] = 0\n",
    "\n",
    "for i in range(0,len(gurobi_inputs)):\n",
    "    e[(gurobi_inputs['Category'][i],gurobi_inputs['SKU'][i])] = 1"
   ]
  },
  {
   "cell_type": "code",
   "execution_count": 989,
   "metadata": {},
   "outputs": [],
   "source": [
    "#DU Dict\n",
    "for i in range(0,len(K)):\n",
    "    for j in range(0,len(H)):\n",
    "        DU[H[j],K[i]] = 0\n",
    "        \n",
    "for i in range(0, len(gurobi_inputs)):\n",
    "    DU[(gurobi_inputs['Stores'][i], gurobi_inputs['SKU'][i])] = gurobi_inputs['Upper'][i]\n",
    "    i += 1"
   ]
  },
  {
   "cell_type": "code",
   "execution_count": 990,
   "metadata": {},
   "outputs": [],
   "source": [
    "#DL Dict\n",
    "for i in range(0,len(K)):\n",
    "    for j in range(0,len(H)):\n",
    "        DL[H[j],K[i]] = 0\n",
    "\n",
    "for i in range(0, len(gurobi_inputs)):\n",
    "    DL[(gurobi_inputs['Stores'][i], gurobi_inputs['SKU'][i])] = gurobi_inputs['Lower'][i]\n",
    "    i += 1"
   ]
  },
  {
   "cell_type": "code",
   "execution_count": 991,
   "metadata": {},
   "outputs": [],
   "source": [
    "#IW Dict\n",
    "for i in range(0,len(K)):\n",
    "    IW[K[i]] = 0\n",
    "\n",
    "for i in range(0, len(invlevel)):\n",
    "    IW[(invlevel['SKU'][i])] = invlevel['IW'][i]\n",
    "    i += 1"
   ]
  },
  {
   "cell_type": "code",
   "execution_count": 992,
   "metadata": {},
   "outputs": [],
   "source": [
    "#W2_Max Dict\n",
    "for i in range(0,len(K)):\n",
    "    for j in range(0,len(H)):\n",
    "        W2_max[H[j],K[i]] = 0\n",
    "\n",
    "\n",
    "for i in range(0,len(gurobi_inputs)):\n",
    "    W2_max[(gurobi_inputs['Stores'][i], gurobi_inputs['SKU'][i])] = gurobi_inputs['Wmax'][i]\n",
    "    i += 1"
   ]
  },
  {
   "cell_type": "code",
   "execution_count": 993,
   "metadata": {},
   "outputs": [],
   "source": [
    "#W2_Min Dict\n",
    "for i in range(0,len(K)):\n",
    "    for j in range(0,len(H)):\n",
    "        W2_min[H[j],K[i]] = 0\n",
    "\n",
    "for i in range(0,len(gurobi_inputs)):\n",
    "    W2_min[(gurobi_inputs['Stores'][i], gurobi_inputs['SKU'][i])] = gurobi_inputs['Wmin'][i]\n",
    "    i += 1"
   ]
  },
  {
   "cell_type": "code",
   "execution_count": 994,
   "metadata": {},
   "outputs": [],
   "source": [
    "#F forecast Dict\n",
    "for i in range(0,len(K)):\n",
    "    for j in range(0,len(H)):\n",
    "        F[H[j],K[i]] = 0\n",
    "\n",
    "\n",
    "for i in range(0,len(gurobi_inputs)):\n",
    "    F[(gurobi_inputs['Stores'][i], gurobi_inputs['SKU'][i])] = (gurobi_inputs['Lower'][i] + \n",
    "    gurobi_inputs['Upper'][i]) / 2\n",
    "    i += 1"
   ]
  },
  {
   "cell_type": "code",
   "execution_count": 995,
   "metadata": {},
   "outputs": [],
   "source": [
    "#Holding Cost a_hk\n",
    "for i in range(0,len(K)):\n",
    "    for j in range(0,len(H)):\n",
    "        a[H[j],K[i]] = 1000\n",
    "\n",
    "\n",
    "for i in range(0,len(gurobi_inputs)):\n",
    "    a[gurobi_inputs['Stores'][i],gurobi_inputs['SKU'][i]] = gurobi_inputs['Price'][i]*0.05\n",
    "    i += 1"
   ]
  },
  {
   "cell_type": "code",
   "execution_count": 996,
   "metadata": {},
   "outputs": [],
   "source": [
    "#Unit cost of open quantity g_hk\n",
    "for i in range(0,len(K)):\n",
    "    for j in range(0,len(H)):\n",
    "        g[H[j],K[i]] = 1000\n",
    "\n",
    "\n",
    "for i in range(0,len(gurobi_inputs)):\n",
    "    g[gurobi_inputs['Stores'][i],gurobi_inputs['SKU'][i]] = gurobi_inputs['Price'][i]*0.60\n",
    "    i += 1"
   ]
  },
  {
   "cell_type": "code",
   "execution_count": 997,
   "metadata": {},
   "outputs": [],
   "source": [
    "#Price of products p\n",
    "for i in range(0,len(K)):\n",
    "    P[K[i]] = 9999\n",
    "\n",
    "for i in range(0,len(gurobi_inputs)):\n",
    "    P[gurobi_inputs['SKU'][i]] = gurobi_inputs['Price'][i]\n",
    "    i += 1"
   ]
  },
  {
   "cell_type": "code",
   "execution_count": 998,
   "metadata": {},
   "outputs": [],
   "source": [
    "#n_jk Number of product k that can in assortment j\n",
    "for i in range(0,len(K)):\n",
    "    for j in range(0,len(J)):\n",
    "        n[J[j],K[i]] = 0\n",
    "\n",
    "for i in range(0,len(gurobi_inputs)):\n",
    "    n[(gurobi_inputs['AssortmentCode'][i], gurobi_inputs['SKU'][i])] = gurobi_inputs['Wmin'][i]\n",
    "    i += 1"
   ]
  },
  {
   "cell_type": "markdown",
   "metadata": {},
   "source": [
    "---"
   ]
  },
  {
   "cell_type": "markdown",
   "metadata": {},
   "source": [
    "#  Model Deployment\n",
    "## Decision Variables"
   ]
  },
  {
   "cell_type": "code",
   "execution_count": 999,
   "metadata": {
    "tags": []
   },
   "outputs": [],
   "source": [
    "replenishment = gp.Model('replenishment')\n",
    "\n",
    "# Number of product k sent from warehouse to store h  vtype=GRB.CONTINUOUS,\n",
    "x = replenishment.addVars(H, K, vtype=GRB.CONTINUOUS, name=\"x\") \n",
    "\n",
    "# Indicator decision variable taking the value 1 if product k sent to store h\n",
    "y = replenishment.addVars(H, K, vtype=GRB.BINARY, name=\"y\")\n",
    "\n",
    "# Stock level of product k in store h after replenishment  vtype=GRB.CONTINUOUS. \n",
    "I_ending = replenishment.addVars(H, K, lb=-GRB.INFINITY, ub=GRB.INFINITY, vtype=GRB.CONTINUOUS, name=\"I_ending\") \n",
    "\n",
    "# Number of idle stocks of product k in store h #ub=max(0,(I_initial + x) - DU), vtype=GRB.CONTINUOUS,\n",
    "v = replenishment.addVars(H, K, vtype=GRB.CONTINUOUS, name=\"v\")\n",
    "\n",
    "# Number of lost sales of product k in store h #ub=max(0,(I_initial + x) - DU), vtype=GRB.CONTINUOUS,\n",
    "q = replenishment.addVars(H, K, vtype=GRB.CONTINUOUS, name=\"q\")\n",
    "\n",
    "# continuous variable indicating the amount which false behind the required minimum stock\n",
    "s = replenishment.addVars(H, K, vtype=GRB.CONTINUOUS, name=\"s\")\n",
    "\n",
    "# continuous variable number of assortment  j sent to store h\n",
    "t = replenishment.addVars(H, J,lb = 0, ub = 3, vtype=GRB.INTEGER, name=\"t\") \n",
    "\n",
    "# continuous variable number of product k sent to store h outside of an assortment\n",
    "z = replenishment.addVars(H, K, vtype=GRB.CONTINUOUS, name=\"z\") "
   ]
  },
  {
   "cell_type": "markdown",
   "metadata": {},
   "source": [
    "---"
   ]
  },
  {
   "cell_type": "markdown",
   "metadata": {},
   "source": [
    "## Constraints"
   ]
  },
  {
   "cell_type": "code",
   "execution_count": 1000,
   "metadata": {
    "tags": []
   },
   "outputs": [],
   "source": [
    "# 2nd v constraint\n",
    "cons_v = replenishment.addConstrs((v[h,k]\n",
    "                    >=  I_initial[h,k] + x[h,k] - DU[h,k]\n",
    "                        for h in H for k in K),\n",
    "                        name = \"cons_v\")"
   ]
  },
  {
   "cell_type": "code",
   "execution_count": 1001,
   "metadata": {
    "tags": []
   },
   "outputs": [],
   "source": [
    "# 3rd v constraint\n",
    "cons_q = replenishment.addConstrs((q[h,k]\n",
    "                    >= DL[h,k] - I_initial[h,k] - x[h,k] \n",
    "                        for h in H for k in K),\n",
    "                        name = \"cons_q\")"
   ]
  },
  {
   "cell_type": "code",
   "execution_count": 1002,
   "metadata": {
    "tags": []
   },
   "outputs": [],
   "source": [
    "# 4th CC constraint\n",
    "#cons_CC = replenishment.addConstrs((CC[h,l]\n",
    " #                   >= gp.quicksum(e[l,k] * b[h,k] * x[h,k] + e[l,k] * b[h,k] * I_initial[h,k]\n",
    "  #                      for k in K) for h in H for l in L),\n",
    "   #                 name = \"cons_CC\")\n",
    "\n",
    "\n",
    "cons_CC = replenishment.addConstrs((gp.quicksum(e[l,k] * b[h,k] * x[h,k] + e[l,k] * b[h,k] * I_initial[h,k]\n",
    "                        for k in K) <= CC[h,l] for h in H for l in L),\n",
    "                    name = \"cons_CC\")"
   ]
  },
  {
   "cell_type": "code",
   "execution_count": 1003,
   "metadata": {
    "tags": []
   },
   "outputs": [],
   "source": [
    "# 6th C constraint\n",
    "#cons_C = replenishment.addConstrs((C[h]\n",
    " #                   >= gp.quicksum(b[h,k] * x[h,k] + b[h,k] * I_initial[h,k]\n",
    "  #                      for k in K)\n",
    "   #                     for h in H),\n",
    "    #                name = \"cons_C\")\n",
    "\n",
    "\n",
    "cons_C = replenishment.addConstrs((gp.quicksum(b[h,k] * x[h,k] + b[h,k] * I_initial[h,k]\n",
    "                        for k in K) <= C[h] for h in H),\n",
    "                    name = \"cons_C\")"
   ]
  },
  {
   "cell_type": "code",
   "execution_count": 1004,
   "metadata": {},
   "outputs": [],
   "source": [
    "# 7th DL_IW constraint\n",
    "cons_DL_IW = replenishment.addConstrs((min(DL[h,k],IW[k]) * y[h,k]\n",
    "                    <= b[h,k] * x[h,k] +  b[h,k] * I_initial[h,k]\n",
    "                        for h in H for k in K),\n",
    "                        name = \"cons_DL_IW\")"
   ]
  },
  {
   "cell_type": "code",
   "execution_count": 1005,
   "metadata": {},
   "outputs": [],
   "source": [
    "# 8th IW constraint\n",
    "cons_IW = replenishment.addConstrs((gp.quicksum(x[h,k] for h in H)\n",
    "                                  <= IW[k] for k in K), name = \"cons_IW\")"
   ]
  },
  {
   "cell_type": "code",
   "execution_count": 1006,
   "metadata": {},
   "outputs": [],
   "source": [
    "# 9th W2max_DU constraint\n",
    "cons_W2_max_DU = replenishment.addConstrs((min(W2_max[h,k],DU[h,k]) * y[h,k]\n",
    "                    >= b[h,k] * x[h,k]\n",
    "                        for h in H for k in K),\n",
    "                        name = \"W2max_DU\")"
   ]
  },
  {
   "cell_type": "code",
   "execution_count": 1007,
   "metadata": {},
   "outputs": [],
   "source": [
    "# 10th W2_min constraint\n",
    "cons_W2_min = replenishment.addConstrs((W2_min[h,k] * y[h,k]\n",
    "                    <= b[h,k] * x[h,k]\n",
    "                        for h in H for k in K),\n",
    "                        name = \"cons_W2_min\")"
   ]
  },
  {
   "cell_type": "code",
   "execution_count": 1008,
   "metadata": {},
   "outputs": [],
   "source": [
    "# 11th Inventry Balance constraint\n",
    "cons_balance = replenishment.addConstrs((I_ending[h,k]\n",
    "                    == b[h,k] * I_initial[h,k] + b[h,k] * x[h,k] - F[h,k]\n",
    "                        for h in H for k in K),\n",
    "                        name = \"cons_balance\")"
   ]
  },
  {
   "cell_type": "code",
   "execution_count": 1009,
   "metadata": {},
   "outputs": [],
   "source": [
    "# 12th W2_min constraint\n",
    "cons_balance2 = replenishment.addConstrs((I_ending[h,k] + s[h,k]\n",
    "                    >= 0\n",
    "                        for h in H for k in K),\n",
    "                        name = \"cons_balance2\")"
   ]
  },
  {
   "cell_type": "code",
   "execution_count": 1010,
   "metadata": {},
   "outputs": [],
   "source": [
    "# 13th Total number of products shipped\n",
    "cons_total = replenishment.addConstrs(((gp.quicksum(n[j,k]*t[h,j]\n",
    "                    for j in J) + z[h,k])  == x[h,k] for h in H for k in K),\n",
    "                    name = \"cons_total\")"
   ]
  },
  {
   "cell_type": "code",
   "execution_count": 1011,
   "metadata": {
    "tags": []
   },
   "outputs": [],
   "source": [
    "# 14 th Minimizing lost sales and idle stock \n",
    "obj = (gp.quicksum(a[h,k] * v[h,k] for h in H for k in K) + gp.quicksum(P[k] * (s[h,k] + q[h,k]) for h in H for k in K) + \n",
    "      gp.quicksum(g[h,k] * z[h,k] for h in H for k in K))\n",
    "\n",
    "replenishment.setObjective(obj, GRB.MINIMIZE)"
   ]
  },
  {
   "cell_type": "markdown",
   "metadata": {},
   "source": [
    "---"
   ]
  },
  {
   "cell_type": "code",
   "execution_count": 1012,
   "metadata": {
    "tags": []
   },
   "outputs": [
    {
     "name": "stdout",
     "output_type": "stream",
     "text": [
      "Gurobi Optimizer version 9.5.1 build v9.5.1rc2 (mac64[x86])\n",
      "Thread count: 4 physical cores, 8 logical processors, using up to 8 threads\n",
      "Optimize a model with 343962 rows, 304950 columns and 562038 nonzeros\n",
      "Model fingerprint: 0xb3788bb8\n",
      "Variable types: 256158 continuous, 48792 integer (42693 binary)\n",
      "Coefficient statistics:\n",
      "  Matrix range     [1e+00, 9e+00]\n",
      "  Objective range  [1e+00, 1e+03]\n",
      "  Bounds range     [1e+00, 3e+00]\n",
      "  RHS range        [5e-01, 1e+05]\n",
      "Found heuristic solution: objective 519205.37082\n",
      "Presolve removed 343938 rows and 304929 columns\n",
      "Presolve time: 0.79s\n",
      "Presolved: 24 rows, 21 columns, 52 nonzeros\n",
      "Found heuristic solution: objective 54977.000366\n",
      "Variable types: 6 continuous, 15 integer (9 binary)\n",
      "\n",
      "Root relaxation: objective 5.454103e+04, 6 iterations, 0.00 seconds (0.00 work units)\n",
      "\n",
      "    Nodes    |    Current Node    |     Objective Bounds      |     Work\n",
      " Expl Unexpl |  Obj  Depth IntInf | Incumbent    BestBd   Gap | It/Node Time\n",
      "\n",
      "*    0     0               0    54541.033327 54541.0333  0.00%     -    0s\n",
      "\n",
      "Explored 1 nodes (6 simplex iterations) in 0.92 seconds (0.47 work units)\n",
      "Thread count was 8 (of 8 available processors)\n",
      "\n",
      "Solution count 3: 54541 54977 519205 \n",
      "\n",
      "Optimal solution found (tolerance 1.00e-04)\n",
      "Best objective 5.454103332661e+04, best bound 5.454103332661e+04, gap 0.0000%\n"
     ]
    }
   ],
   "source": [
    "replenishment.optimize()"
   ]
  },
  {
   "cell_type": "code",
   "execution_count": 1013,
   "metadata": {
    "tags": []
   },
   "outputs": [],
   "source": [
    "rows = H.copy()\n",
    "columns = K.copy()\n",
    "urunIkmali = pd.DataFrame(columns=columns, index=rows, data=0.0)\n",
    "\n",
    "for store, product in x.keys():\n",
    "    if (abs(x[store, product].x) > 1e-6):\n",
    "        urunIkmali.loc[store, product] = np.round(x[store, product].x, 1)"
   ]
  },
  {
   "cell_type": "code",
   "execution_count": 1014,
   "metadata": {},
   "outputs": [],
   "source": [
    "rows = H.copy()\n",
    "columns = K.copy()\n",
    "y_plan = pd.DataFrame(columns=columns, index=rows, data=0.0)\n",
    "\n",
    "for store, product in y.keys():\n",
    "    if (abs(y[store, product].x) > 1e-6):\n",
    "        y_plan.loc[store, product] = np.round(y[store, product].x, 1)"
   ]
  },
  {
   "cell_type": "code",
   "execution_count": 1015,
   "metadata": {},
   "outputs": [],
   "source": [
    "rows = H.copy()\n",
    "columns = K.copy()\n",
    "v_plan = pd.DataFrame(columns=columns, index=rows, data=0.0)\n",
    "\n",
    "for store, product in v.keys():\n",
    "    if (abs(v[store, product].x) > 1e-6):\n",
    "        v_plan.loc[store, product] = np.round(v[store, product].x, 1)"
   ]
  },
  {
   "cell_type": "code",
   "execution_count": 1016,
   "metadata": {},
   "outputs": [],
   "source": [
    "rows = H.copy()\n",
    "columns = K.copy()\n",
    "I_ending_plan = pd.DataFrame(columns=columns, index=rows, data=0.0)\n",
    "\n",
    "for store, product in I_ending.keys():\n",
    "    if (abs(I_ending[store, product].x) > 1e-6):\n",
    "        I_ending_plan.loc[store, product] = np.round(I_ending[store, product].x, 1)\n"
   ]
  },
  {
   "cell_type": "code",
   "execution_count": 1017,
   "metadata": {},
   "outputs": [],
   "source": [
    "rows = H.copy()\n",
    "columns = K.copy()\n",
    "q_plan = pd.DataFrame(columns=columns, index=rows, data=0.0)\n",
    "\n",
    "for store, product in q.keys():\n",
    "    if (abs(q[store, product].x) > 1e-6):\n",
    "        q_plan.loc[store, product] = np.round(q[store, product].x, 1)\n"
   ]
  },
  {
   "cell_type": "code",
   "execution_count": 1018,
   "metadata": {},
   "outputs": [],
   "source": [
    "rows = H.copy()\n",
    "columns = J.copy()\n",
    "t_plan = pd.DataFrame(columns=columns, index=rows, data=0.0)\n",
    "\n",
    "for store, AssortmentCode in t.keys():\n",
    "    if (abs(t[store, AssortmentCode].x) > 1e-6):\n",
    "        t_plan.loc[store, AssortmentCode] = np.round(t[store, AssortmentCode].x, 1)\n"
   ]
  },
  {
   "cell_type": "code",
   "execution_count": 1019,
   "metadata": {},
   "outputs": [],
   "source": [
    "rows = H.copy()\n",
    "columns = K.copy()\n",
    "z_plan = pd.DataFrame(columns=columns, index=rows, data=0.0)\n",
    "\n",
    "for store, product in z.keys():\n",
    "    if (abs(z[store, product].x) > 1e-6):\n",
    "        z_plan.loc[store, product] = np.round(z[store, product].x, 1)\n"
   ]
  },
  {
   "cell_type": "code",
   "execution_count": 1020,
   "metadata": {},
   "outputs": [],
   "source": [
    "rows = H.copy()\n",
    "columns = K.copy()\n",
    "s_plan = pd.DataFrame(columns=columns, index=rows, data=0.0)\n",
    "\n",
    "for store, product in s.keys():\n",
    "    if (abs(s[store, product].x) > 1e-6):\n",
    "        s_plan.loc[store, product] = np.round(s[store, product].x, 1)"
   ]
  }
 ],
 "metadata": {
  "kernelspec": {
   "display_name": "Python 3",
   "language": "python",
   "name": "python3"
  },
  "language_info": {
   "codemirror_mode": {
    "name": "ipython",
    "version": 3
   },
   "file_extension": ".py",
   "mimetype": "text/x-python",
   "name": "python",
   "nbconvert_exporter": "python",
   "pygments_lexer": "ipython3",
   "version": "3.8.5"
  }
 },
 "nbformat": 4,
 "nbformat_minor": 5
}
